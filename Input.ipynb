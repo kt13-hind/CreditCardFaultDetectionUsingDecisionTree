{
 "cells": [
  {
   "cell_type": "code",
   "execution_count": 2,
   "id": "5a3a43c9",
   "metadata": {
    "collapsed": true
   },
   "outputs": [],
   "source": [
    "import pandas as pd"
   ]
  },
  {
   "cell_type": "code",
   "execution_count": 3,
   "id": "b1c76c02",
   "metadata": {},
   "outputs": [
    {
     "data": {
      "text/plain": [
       "Index(['Time', 'V1', 'V2', 'V3', 'V4', 'V5', 'V6', 'V7', 'V8', 'V9', 'V10',\n",
       "       'V11', 'V12', 'V13', 'V14', 'V15', 'V16', 'V17', 'V18', 'V19', 'V20',\n",
       "       'V21', 'V22', 'V23', 'V24', 'V25', 'V26', 'V27', 'V28', 'Amount'],\n",
       "      dtype='object')"
      ]
     },
     "execution_count": 3,
     "metadata": {},
     "output_type": "execute_result"
    }
   ],
   "source": [
    "df = pd.read_csv(r'C:\\Users\\Administrator\\Credit_card_fault\\check.csv')\n",
    "df.columns"
   ]
  },
  {
   "cell_type": "code",
   "execution_count": 65,
   "id": "ffc79082",
   "metadata": {},
   "outputs": [
    {
     "data": {
      "text/html": [
       "<div>\n",
       "<style scoped>\n",
       "    .dataframe tbody tr th:only-of-type {\n",
       "        vertical-align: middle;\n",
       "    }\n",
       "\n",
       "    .dataframe tbody tr th {\n",
       "        vertical-align: top;\n",
       "    }\n",
       "\n",
       "    .dataframe thead th {\n",
       "        text-align: right;\n",
       "    }\n",
       "</style>\n",
       "<table border=\"1\" class=\"dataframe\">\n",
       "  <thead>\n",
       "    <tr style=\"text-align: right;\">\n",
       "      <th></th>\n",
       "      <th>Time</th>\n",
       "      <th>V1</th>\n",
       "      <th>V2</th>\n",
       "      <th>V3</th>\n",
       "      <th>V4</th>\n",
       "      <th>V5</th>\n",
       "      <th>V6</th>\n",
       "      <th>V7</th>\n",
       "      <th>V8</th>\n",
       "      <th>V9</th>\n",
       "      <th>...</th>\n",
       "      <th>V20</th>\n",
       "      <th>V21</th>\n",
       "      <th>V22</th>\n",
       "      <th>V23</th>\n",
       "      <th>V24</th>\n",
       "      <th>V25</th>\n",
       "      <th>V26</th>\n",
       "      <th>V27</th>\n",
       "      <th>V28</th>\n",
       "      <th>Amount</th>\n",
       "    </tr>\n",
       "  </thead>\n",
       "  <tbody>\n",
       "    <tr>\n",
       "      <th>0</th>\n",
       "      <td>24</td>\n",
       "      <td>1.237429</td>\n",
       "      <td>0.061043</td>\n",
       "      <td>0.380526</td>\n",
       "      <td>0.761564</td>\n",
       "      <td>-0.359771</td>\n",
       "      <td>-0.494084</td>\n",
       "      <td>0.006494</td>\n",
       "      <td>-0.133862</td>\n",
       "      <td>0.438810</td>\n",
       "      <td>...</td>\n",
       "      <td>-0.066351</td>\n",
       "      <td>-0.245682</td>\n",
       "      <td>-0.530900</td>\n",
       "      <td>-0.044265</td>\n",
       "      <td>0.079168</td>\n",
       "      <td>0.509136</td>\n",
       "      <td>0.288858</td>\n",
       "      <td>-0.022705</td>\n",
       "      <td>0.011836</td>\n",
       "      <td>17.28</td>\n",
       "    </tr>\n",
       "    <tr>\n",
       "      <th>1</th>\n",
       "      <td>133016</td>\n",
       "      <td>0.029844</td>\n",
       "      <td>-0.739818</td>\n",
       "      <td>0.148791</td>\n",
       "      <td>-1.290233</td>\n",
       "      <td>0.741680</td>\n",
       "      <td>-1.700776</td>\n",
       "      <td>0.238743</td>\n",
       "      <td>-0.483216</td>\n",
       "      <td>-0.913369</td>\n",
       "      <td>...</td>\n",
       "      <td>0.275350</td>\n",
       "      <td>0.145470</td>\n",
       "      <td>0.363077</td>\n",
       "      <td>0.147000</td>\n",
       "      <td>0.041696</td>\n",
       "      <td>-0.658103</td>\n",
       "      <td>-0.363139</td>\n",
       "      <td>-0.087103</td>\n",
       "      <td>-0.112570</td>\n",
       "      <td>15.00</td>\n",
       "    </tr>\n",
       "    <tr>\n",
       "      <th>2</th>\n",
       "      <td>26</td>\n",
       "      <td>2.113776</td>\n",
       "      <td>0.053331</td>\n",
       "      <td>-1.209256</td>\n",
       "      <td>0.456518</td>\n",
       "      <td>0.279447</td>\n",
       "      <td>-0.768088</td>\n",
       "      <td>0.086763</td>\n",
       "      <td>-0.379156</td>\n",
       "      <td>1.853023</td>\n",
       "      <td>...</td>\n",
       "      <td>-0.236102</td>\n",
       "      <td>-0.483513</td>\n",
       "      <td>-1.001436</td>\n",
       "      <td>0.264747</td>\n",
       "      <td>-0.711990</td>\n",
       "      <td>-0.224696</td>\n",
       "      <td>0.199710</td>\n",
       "      <td>-0.097508</td>\n",
       "      <td>-0.073031</td>\n",
       "      <td>1.98</td>\n",
       "    </tr>\n",
       "    <tr>\n",
       "      <th>3</th>\n",
       "      <td>133066</td>\n",
       "      <td>1.024278</td>\n",
       "      <td>-0.160675</td>\n",
       "      <td>1.455757</td>\n",
       "      <td>1.868874</td>\n",
       "      <td>-0.763373</td>\n",
       "      <td>0.825055</td>\n",
       "      <td>-0.787853</td>\n",
       "      <td>0.389999</td>\n",
       "      <td>2.405920</td>\n",
       "      <td>...</td>\n",
       "      <td>-0.308478</td>\n",
       "      <td>-0.511560</td>\n",
       "      <td>-0.832069</td>\n",
       "      <td>0.119667</td>\n",
       "      <td>0.132031</td>\n",
       "      <td>0.312974</td>\n",
       "      <td>-0.574659</td>\n",
       "      <td>0.054904</td>\n",
       "      <td>0.012112</td>\n",
       "      <td>10.83</td>\n",
       "    </tr>\n",
       "    <tr>\n",
       "      <th>4</th>\n",
       "      <td>138586</td>\n",
       "      <td>-2.986939</td>\n",
       "      <td>2.111087</td>\n",
       "      <td>-1.672516</td>\n",
       "      <td>-2.101711</td>\n",
       "      <td>-1.381548</td>\n",
       "      <td>-1.213100</td>\n",
       "      <td>-0.588836</td>\n",
       "      <td>1.827454</td>\n",
       "      <td>0.214092</td>\n",
       "      <td>...</td>\n",
       "      <td>-0.656567</td>\n",
       "      <td>0.341046</td>\n",
       "      <td>0.522656</td>\n",
       "      <td>0.080944</td>\n",
       "      <td>1.237921</td>\n",
       "      <td>0.007103</td>\n",
       "      <td>0.661396</td>\n",
       "      <td>-0.728052</td>\n",
       "      <td>-0.089682</td>\n",
       "      <td>2000.00</td>\n",
       "    </tr>\n",
       "  </tbody>\n",
       "</table>\n",
       "<p>5 rows × 30 columns</p>\n",
       "</div>"
      ],
      "text/plain": [
       "     Time        V1        V2        V3        V4        V5        V6  \\\n",
       "0      24  1.237429  0.061043  0.380526  0.761564 -0.359771 -0.494084   \n",
       "1  133016  0.029844 -0.739818  0.148791 -1.290233  0.741680 -1.700776   \n",
       "2      26  2.113776  0.053331 -1.209256  0.456518  0.279447 -0.768088   \n",
       "3  133066  1.024278 -0.160675  1.455757  1.868874 -0.763373  0.825055   \n",
       "4  138586 -2.986939  2.111087 -1.672516 -2.101711 -1.381548 -1.213100   \n",
       "\n",
       "         V7        V8        V9  ...       V20       V21       V22       V23  \\\n",
       "0  0.006494 -0.133862  0.438810  ... -0.066351 -0.245682 -0.530900 -0.044265   \n",
       "1  0.238743 -0.483216 -0.913369  ...  0.275350  0.145470  0.363077  0.147000   \n",
       "2  0.086763 -0.379156  1.853023  ... -0.236102 -0.483513 -1.001436  0.264747   \n",
       "3 -0.787853  0.389999  2.405920  ... -0.308478 -0.511560 -0.832069  0.119667   \n",
       "4 -0.588836  1.827454  0.214092  ... -0.656567  0.341046  0.522656  0.080944   \n",
       "\n",
       "        V24       V25       V26       V27       V28   Amount  \n",
       "0  0.079168  0.509136  0.288858 -0.022705  0.011836    17.28  \n",
       "1  0.041696 -0.658103 -0.363139 -0.087103 -0.112570    15.00  \n",
       "2 -0.711990 -0.224696  0.199710 -0.097508 -0.073031     1.98  \n",
       "3  0.132031  0.312974 -0.574659  0.054904  0.012112    10.83  \n",
       "4  1.237921  0.007103  0.661396 -0.728052 -0.089682  2000.00  \n",
       "\n",
       "[5 rows x 30 columns]"
      ]
     },
     "execution_count": 65,
     "metadata": {},
     "output_type": "execute_result"
    }
   ],
   "source": [
    "df.head()"
   ]
  },
  {
   "cell_type": "code",
   "execution_count": 69,
   "id": "54b9c594",
   "metadata": {
    "scrolled": false
   },
   "outputs": [
    {
     "data": {
      "text/plain": [
       "Time      0\n",
       "V1        0\n",
       "V2        0\n",
       "V3        0\n",
       "V4        0\n",
       "V5        0\n",
       "V6        0\n",
       "V7        0\n",
       "V8        0\n",
       "V9        0\n",
       "V10       0\n",
       "V11       0\n",
       "V12       0\n",
       "V13       0\n",
       "V14       0\n",
       "V15       0\n",
       "V16       0\n",
       "V17       0\n",
       "V18       0\n",
       "V19       0\n",
       "V20       0\n",
       "V21       0\n",
       "V22       0\n",
       "V23       0\n",
       "V24       0\n",
       "V25       0\n",
       "V26       0\n",
       "V27       0\n",
       "V28       0\n",
       "Amount    0\n",
       "dtype: int64"
      ]
     },
     "execution_count": 69,
     "metadata": {},
     "output_type": "execute_result"
    }
   ],
   "source": [
    "df.isna().sum()"
   ]
  },
  {
   "cell_type": "code",
   "execution_count": 4,
   "id": "36024ba5",
   "metadata": {},
   "outputs": [
    {
     "data": {
      "text/html": [
       "<h1>INPUT TAKEN</h1>\n"
      ],
      "text/plain": [
       "<IPython.core.display.HTML object>"
      ]
     },
     "metadata": {},
     "output_type": "display_data"
    }
   ],
   "source": [
    "%%html\n",
    "<h1>INPUT TAKEN</h1>\n",
    "<link rel=\"stylesheet\" href=\"style.css\">"
   ]
  }
 ],
 "metadata": {
  "kernelspec": {
   "display_name": "Python 3",
   "language": "python",
   "name": "python3"
  },
  "language_info": {
   "codemirror_mode": {
    "name": "ipython",
    "version": 3
   },
   "file_extension": ".py",
   "mimetype": "text/x-python",
   "name": "python",
   "nbconvert_exporter": "python",
   "pygments_lexer": "ipython3",
   "version": "3.6.2"
  }
 },
 "nbformat": 4,
 "nbformat_minor": 5
}
