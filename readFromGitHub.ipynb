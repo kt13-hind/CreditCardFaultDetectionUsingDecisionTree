# THIS FUNCTION TAKES A CSV FILE FROM A GITHUB URL AND READS IT INTO A PANDAS DATA FRAME
import pandas as pd

def read_file(url):
  
  """
  Takes github url as an argument,
  pulls csv file located @ github url
  """

  url = url + "?raw=true"
  df = pd.read_csv(url)
  return df
 

# READ FILE FROM GITHUB REPO
# CHANGE THE URL TO YOU DATA LOCATION
url = "https://www.kaggle.com/mlg-ulb/creditcardfraud?select=creditcard.csv"

df = read_file(url)
